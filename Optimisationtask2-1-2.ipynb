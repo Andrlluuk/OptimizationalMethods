{
 "cells": [
  {
   "cell_type": "markdown",
   "metadata": {},
   "source": [
    "Задача об управлении предприятием по переработке руды.\n",
    "\n",
    "\n",
    "Перерабатываются два вида руды: А и В. \n",
    "\n",
    "\n",
    "Предприятию может быть поставлено в день до\n",
    "100 тыс. тонн руды вида А по цене 3.25 руб./т. и до 30 тыс.тонн руды вида В по\n",
    "цене 3.40 руб./т. Общая мощность основного процесса переработки равна 100 тыс. тонн\n",
    "руды в день при затратах на переработку 0.35 руб./т.\n",
    "\n",
    "\n",
    "Основной процесс обработки позволяет получать:\n",
    "- из каждой тонны руды вида А 0.15 т продукта I и 0.85 т продукта II,\n",
    "- из каждой тонны руды вида В – 0.25 т продукта I и 0.75 т продукта II.\n",
    "\n",
    "\n",
    "Продукт I более ценный, и агрегат, называемый конвертером, способен из каждой тонны\n",
    "продукта II получить 0.5 т продукта I и 0.5 т продукта II, который нельзя повторно\n",
    "перерабатывать конвертером. Мощность конвертера – 50 тыс. тонн сырья в день при\n",
    "затратах на конвертерную обработку 0.25 руб./т сырья.\n",
    "\n",
    "\n",
    "Затраты на фильтрацию продукта I , производимую после основного процесса обработки,\n",
    "равны 0.10 руб./т сырья. Затраты на упаковку продукта I 0.15 руб./т сырья.\n",
    "\n",
    "\n",
    "Условия реализации продукции следующие. Вся продукция идет на продажу.\n",
    "Продукт II может быть реализован в неограниченном количестве по цене 3.80 руб./т.\n",
    "Продукт I продается по цене 5.50 руб./т, и его можно продать по этой цене до 45 тыс.\n",
    "т/день. Кроме того, можно продать до 4 тыс. тонн в день по цене 5.2 руб./т и\n",
    "неограниченное количество продукта по заниженной цене 5.0 руб./т.\n",
    "\n",
    "\n",
    "Существует контракт, согласно которому требуется поставлять потребителям не менее 40\n",
    "тыс. тонн продукта I в день. Оба продукта можно при необходимости докупить:\n",
    "закупочная цена продукта I равна 5.75 руб./т, закупочная цена продукта II - 4.00 руб./т.\n",
    "\n",
    "Найти план выпуска продукции с максимальной прибылью.\n",
    "\n",
    "\n",
    "Обозначим входные данные:\n",
    "\n",
    "$CostA$ - стоимость руды типа А за тонну\n",
    "\n",
    "$CostB$ - стоимость руды типа B за тоннy\n",
    "\n",
    "$A$ - максимально возможная масса закупленной руды типа А\n",
    "\n",
    "$B$ - максимально возможная масса закупленной руды типа B\n",
    "\n",
    "$L$ - максимально возможная масса руды, которая может поступить на основной процесс обработки\n",
    "\n",
    "$Cost$ - cтоимость основной обработки одной тонны руды\n",
    "\n",
    "$LConverter$ - максимально возможная суммарная масса продуктов, которая может пройти конвертацию\n",
    "\n",
    "$CostConverter$ - стоимость конвертации одной тонны продукта\n",
    "\n",
    "$CostFilter$ - стоимость фильтрации одной тонны продукта\n",
    "\n",
    "$LPackage$ - стоимость упаковки одной тонны продукта\n",
    "\n",
    "$PartAI$ - часть продукта I типа, получаемая из единицы руды А\n",
    "\n",
    "$PartAII$ - часть продукта II типа, получаемая из единицы руды А\n",
    "\n",
    "$PartBI$ - часть продукта I типа, получаемая из единицы руды B\n",
    "\n",
    "$PartBII$ - часть продукта II типа, получаемая из единицы руды B\n",
    "\n",
    "$PartConverterII$ - часть продукта типа II, получаемая после конвертации из единицы продукта\n",
    "\n",
    "$PartConverterII$ - часть продукта типа I, получаемая после конвертации из единицы продукта\n",
    "\n",
    "$SellII$ - стоимость продажи одной тонны продукта типа II\n",
    "\n",
    "$SellI$ - стоимость продажи одной тонны продукта типа I\n",
    "\n",
    "$SailFour$ - стоимость продажи одной тонны продукта по акции продажи 4х тонн\n",
    "\n",
    "$Sail$ - стоимость продажи одной тонны продукта по остаточной цене\n",
    "\n",
    "$ContraintI$ - ограничение на массу продукта, продаваемую по высшей цене\n",
    "\n",
    "$BuyII$ - стоимость покупки одной тонны продукта типа II\n",
    "\n",
    "$BuyI$ - стоимость покупки одной тонны продукта типа I\n",
    "\n",
    "$Contract$ - масса продукта I, необходимая для покупки по контракту\n",
    "\n",
    "$FourT$ - 4 тонны продукта I\n",
    "\n",
    "Построим математическую модель:\n",
    "\n",
    "$X$ - количество тонн руды А, которое поступило предприятию;\n",
    "\n",
    "$Y$ - количество тонн руды B, которое поступило предприятию;\n",
    "\n",
    "$Z$ - количество продукта типа II, направленное на конвертер;\n",
    "\n",
    "$D_I$ - количество продукта типа I, закупленное дополнительно;\n",
    "\n",
    "$D_{II}$ - количество продукта типа II, закупленное дополнительно;\n",
    "\n",
    "$P$ - количество продукта из $D_{II}$, ушедшее на конвертацию;\n",
    "\n",
    "$temp$ - масса продукта, продаваемая по первичной цене\n",
    "\n",
    "$tempI$ - масса продукта, продаваемая по цене для 4х тонн\n",
    "\n",
    "$tempII$ - масса продукта, продаваемая по остаточной цене\n",
    "\n",
    "Функция затрат:\n",
    "\n",
    "$$C = C_1 + C_2 + C_3 + C_4 +C_5 + C_6$$, где\n",
    "\n",
    "$$C_1 = - (D_{II}*BuyII + D_{I}*BuyI)$$ - дополнительная закупка продукта;\n",
    "\n",
    "$$C_2 = -(X*CostA + Y*CostB)$$ - закупка руды;\n",
    "\n",
    "$$C_3 = - (X+Y)*Cost$$; - стоимость основного процесса переработки;\n",
    "\n",
    "$$C_4 = - (X*PartAI + Y*PartBI)*costFilter$$ - стоимость процесса фильтрации;\n",
    "\n",
    "$$C_5 = - (P + Z)*CostConverter$$ - стоимость процесса конвертации;\n",
    "\n",
    "$$C_6 = - ((P + Z)*PartConverterI + X*PartAI + Y*PartBI)*LPackage$$ - стоимость процесса упаковки;\n",
    "\n",
    "\n",
    "Определим, какое количество каждого продукта мы получим:\n",
    "\n",
    "$$PRODUCT_I = D_I + X*PartAI + Y*PartBI + (P + Z)*PartConverterI$$\n",
    "\n",
    "$$PRODUCT_{II} = D_{II} - P + (X*PartAII + Y*PartBII) - Z + (P+Z)*PartConverterII$$\n",
    "\n",
    "\n",
    "Функция продаж:\n",
    "\n",
    "$$SALE = PRODUCT_{II}*Sell{II} + temp*SellI + tempI * SailFour + tempII * sail$$\n",
    "\n",
    "Целевая функция:\n",
    "\n",
    "$$C + SALE \\to \\max$$\n",
    "\n",
    "Ограничения:\n",
    "\n",
    "$$X, Y, Z \\in \\mathbb R$$\n",
    "\n",
    "$$X \\leqslant A$$\n",
    "\n",
    "$$Y \\leqslant B$$\n",
    "\n",
    "$$P + Z \\leqslant LConverter$$\n",
    "\n",
    "$$X + Y\\leqslant L$$\n",
    "\n",
    "$$Z \\leqslant X*PartAII + Y*PartBII$$\n",
    "\n",
    "$$PRODUCT_{I} \\geqslant Contract$$\n",
    "\n",
    "$$temp \\leqslant ContraintI$$\n",
    "\n",
    "$$temp1 \\leqslant FourT$$\n",
    "\n",
    "$$P \\leqslant {DII}$$\n",
    "\n",
    "$$temp + tempI + tempII = PRODUCT_{I}$$"
   ]
  },
  {
   "cell_type": "code",
   "execution_count": 12,
   "metadata": {},
   "outputs": [],
   "source": [
    "import gurobipy as gp\n",
    "from gurobipy import GRB\n",
    "import numpy as np"
   ]
  },
  {
   "cell_type": "code",
   "execution_count": 13,
   "metadata": {},
   "outputs": [],
   "source": [
    "#INPUT VALUES\n",
    "CostA = 3.25\n",
    "CostB = 3.4\n",
    "A = 100000\n",
    "B = 30000\n",
    "L = 100000\n",
    "Cost = 0.35\n",
    "LConverter = 50000\n",
    "CostConverter = 0.25\n",
    "CostFilter = 0.1\n",
    "LPackage = 0.15\n",
    "PartAI = 0.15\n",
    "PartAII = 0.85\n",
    "PartBI = 0.25\n",
    "PartBII = 0.75\n",
    "PartConverterI = 0.5\n",
    "PartConverterII = 0.5\n",
    "SellII = 3.8\n",
    "SellI = 5.5\n",
    "SailFour = 5.25\n",
    "Sail = 5.0\n",
    "ContraintI = 45000\n",
    "BuyII = 4.0\n",
    "BuyI = 5.75\n",
    "Contract = 40000\n",
    "FourT = 4000"
   ]
  },
  {
   "cell_type": "code",
   "execution_count": 14,
   "metadata": {},
   "outputs": [],
   "source": [
    "m = gp.Model(\"Opt2\")"
   ]
  },
  {
   "cell_type": "code",
   "execution_count": 15,
   "metadata": {},
   "outputs": [],
   "source": [
    "def part_linear_function(x, Cost1, Cost2, Cost3):\n",
    "    if(x <= 45000):\n",
    "        return x*Cost1\n",
    "    elif(x > 45000) and (x <= 49000):\n",
    "        return 45000*Cost1 + (x-45000)*Cost2\n",
    "    else:\n",
    "        return 45000*Cost1 + 4000*Cost2 + (x-49000)*Cost3"
   ]
  },
  {
   "cell_type": "code",
   "execution_count": 16,
   "metadata": {},
   "outputs": [],
   "source": [
    "GRB = gp.GRB\n",
    "X = m.addVar(lb = 0, ub = A, vtype = GRB.SEMICONT, name = \"X\")\n",
    "Y = m.addVar(lb = 0, ub = B ,vtype = GRB.SEMICONT, name = \"Y\")\n",
    "Z = m.addVar(lb = 0, ub = LConverter, vtype = GRB.SEMICONT, name = \"Z\")\n",
    "DI = m.addVar(lb = 0,vtype = GRB.SEMICONT, name = \"DI\")\n",
    "DII = m.addVar(lb = 0,vtype = GRB.SEMICONT, name = \"DII\")\n",
    "P = m.addVar(lb = 0, ub = LConverter, vtype = GRB.SEMICONT, name = \"P\")\n",
    "temp =  m.addVar(lb = 0, ub = ContraintI, vtype = GRB.SEMICONT, name = \"temp\")\n",
    "fu = m.addVar(lb = 0, vtype = GRB.SEMICONT, name = \"temp\")\n",
    "tempI =  m.addVar(lb = 0, ub = FourT, vtype = GRB.SEMICONT, name = \"tempI\")\n",
    "tempII = m.addVar(lb = 0, vtype = GRB.SEMICONT, name = \"tempII\")"
   ]
  },
  {
   "cell_type": "code",
   "execution_count": 17,
   "metadata": {},
   "outputs": [],
   "source": [
    "C1 = DI*BuyI + DII*BuyII #закупка продукта дополнительно\n",
    "C2 = X*CostA + Y*CostB # закупка руды дополнительно\n",
    "C3 = (X+Y)*Cost #Стоимость основного процесса переработки\n",
    "C4 = (X*PartAI + Y*PartBI)*CostFilter #Стоимость фильтрации\n",
    "C5 = (P + Z)*CostConverter #стоимость конвертации\n",
    "C6 = ((P + Z)*PartConverterI + X*PartAI + Y*PartBI)*LPackage #Стоимость упаковки\n",
    "C = C1 + C2 + C3 + C4 + C5 + C6\n",
    "PRODUCTI = DI + X*PartAI + Y*PartBI + (P + Z)*PartConverterI\n",
    "PRODUCTII = DII - P + (X*PartAII + Y*PartBII) - Z + (P + Z)*PartConverterII\n",
    "T = PRODUCTII*SellII + temp*SellI + tempI*SailFour +tempII*Sail"
   ]
  },
  {
   "cell_type": "code",
   "execution_count": 18,
   "metadata": {},
   "outputs": [],
   "source": [
    "m.setObjective(T - C, GRB.MAXIMIZE)"
   ]
  },
  {
   "cell_type": "code",
   "execution_count": 19,
   "metadata": {},
   "outputs": [
    {
     "data": {
      "text/plain": [
       "<gurobi.Constr *Awaiting Model Update*>"
      ]
     },
     "execution_count": 19,
     "metadata": {},
     "output_type": "execute_result"
    }
   ],
   "source": [
    "m.addConstr(X + Y <= L, \"c0\") #ограничение на основную переработку\n",
    "m.addConstr(Z <= X*PartAII + Y*PartBII, \"c1\") #ограничение на часть от основной переработки, поступающую в конвертер\n",
    "m.addConstr(PRODUCTI >= Contract, \"c2\") #ограничение на продукт типа I\n",
    "m.addConstr(PRODUCTII >= 0, \"c3\") #ограничение на продукт типа II\n",
    "m.addConstr(temp + tempI +tempII <= PRODUCTI, \"c4\") #условие равенства\n",
    "m.addConstr(temp + tempI +tempII >= PRODUCTI, \"c5\")\n",
    "m.addConstr(P <= DII, \"c6\")\n",
    "m.addConstr(P + Z <= LConverter, \"c7\") #условие на предел конвертации"
   ]
  },
  {
   "cell_type": "code",
   "execution_count": 20,
   "metadata": {},
   "outputs": [
    {
     "name": "stdout",
     "output_type": "stream",
     "text": [
      "Gurobi Optimizer version 9.0.3 build v9.0.3rc0 (mac64)\n",
      "Optimize a model with 8 rows, 10 columns and 35 nonzeros\n",
      "Model fingerprint: 0x9fcb7af6\n",
      "Variable types: 0 continuous, 0 integer (0 binary)\n",
      "Semi-Variable types: 10 continuous, 0 integer\n",
      "Coefficient statistics:\n",
      "  Matrix range     [1e-01, 1e+00]\n",
      "  Objective range  [2e-01, 6e+00]\n",
      "  Bounds range     [4e+03, 1e+05]\n",
      "  RHS range        [4e+04, 1e+05]\n",
      "Presolve removed 8 rows and 10 columns\n",
      "Presolve time: 0.02s\n",
      "Presolve: All rows and columns removed\n",
      "\n",
      "Explored 0 nodes (0 simplex iterations) in 0.16 seconds\n",
      "Thread count was 1 (of 4 available processors)\n",
      "\n",
      "Solution count 1: 68000 \n",
      "\n",
      "Optimal solution found (tolerance 1.00e-04)\n",
      "Best objective 6.800000000000e+04, best bound 6.800000000000e+04, gap 0.0000%\n"
     ]
    }
   ],
   "source": [
    "m.optimize()"
   ]
  },
  {
   "cell_type": "code",
   "execution_count": 21,
   "metadata": {},
   "outputs": [
    {
     "name": "stdout",
     "output_type": "stream",
     "text": [
      "X 100000\n",
      "Y 0\n",
      "Z 50000\n",
      "DI 0\n",
      "DII 0\n",
      "P 0\n",
      "temp 40000\n",
      "temp 0\n",
      "tempI 0\n",
      "tempII 0\n"
     ]
    }
   ],
   "source": [
    "for v in m.getVars():\n",
    "    print('%s %g' % (v.varName, v.x))"
   ]
  },
  {
   "cell_type": "code",
   "execution_count": 22,
   "metadata": {},
   "outputs": [
    {
     "name": "stdout",
     "output_type": "stream",
     "text": [
      "Obj: 68000\n"
     ]
    }
   ],
   "source": [
    "print('Obj: %g' % m.objVal)\n"
   ]
  },
  {
   "cell_type": "code",
   "execution_count": null,
   "metadata": {},
   "outputs": [],
   "source": []
  },
  {
   "cell_type": "code",
   "execution_count": null,
   "metadata": {},
   "outputs": [],
   "source": []
  }
 ],
 "metadata": {
  "kernelspec": {
   "display_name": "Python 3",
   "language": "python",
   "name": "python3"
  },
  "language_info": {
   "codemirror_mode": {
    "name": "ipython",
    "version": 3
   },
   "file_extension": ".py",
   "mimetype": "text/x-python",
   "name": "python",
   "nbconvert_exporter": "python",
   "pygments_lexer": "ipython3",
   "version": "3.7.6"
  }
 },
 "nbformat": 4,
 "nbformat_minor": 4
}
