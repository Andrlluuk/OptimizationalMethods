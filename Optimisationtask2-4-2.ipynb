{
 "cells": [
  {
   "cell_type": "markdown",
   "metadata": {},
   "source": [
    "Задача об управлении предприятием по переработке руды.\n",
    "\n",
    "\n",
    "Перерабатываются два вида руды: А и В. \n",
    "\n",
    "\n",
    "Предприятию может быть поставлено в день до\n",
    "100 тыс. тонн руды вида А по цене 3.25 руб./т. и до 30 тыс.тонн руды вида В по\n",
    "цене 3.40 руб./т. Общая мощность основного процесса переработки равна 100 тыс. тонн\n",
    "руды в день при затратах на переработку 0.35 руб./т.\n",
    "\n",
    "\n",
    "Основной процесс обработки позволяет получать:\n",
    "- из каждой тонны руды вида А 0.15 т продукта I и 0.85 т продукта II,\n",
    "- из каждой тонны руды вида В – 0.25 т продукта I и 0.75 т продукта II.\n",
    "\n",
    "\n",
    "Продукт I более ценный, и агрегат, называемый конвертером, способен из каждой тонны\n",
    "продукта II получить 0.5 т продукта I и 0.5 т продукта II, который нельзя повторно\n",
    "перерабатывать конвертером. Мощность конвертера – 50 тыс. тонн сырья в день при\n",
    "затратах на конвертерную обработку 0.25 руб./т сырья.\n",
    "\n",
    "\n",
    "Затраты на фильтрацию продукта I , производимую после основного процесса обработки,\n",
    "равны 0.10 руб./т сырья. Затраты на упаковку продукта I 0.15 руб./т сырья.\n",
    "\n",
    "\n",
    "Условия реализации продукции следующие. Вся продукция идет на продажу.\n",
    "Продукт II может быть реализован в неограниченном количестве по цене 3.80 руб./т.\n",
    "Продукт I продается по цене 5.50 руб./т, и его можно продать по этой цене до 45 тыс.\n",
    "т/день. Кроме того, можно продать до 4 тыс. тонн в день по цене 5.2 руб./т и\n",
    "неограниченное количество продукта по заниженной цене 5.0 руб./т.\n",
    "\n",
    "\n",
    "Существует контракт, согласно которому требуется поставлять потребителям не менее 40\n",
    "тыс. тонн продукта I в день. Оба продукта можно при необходимости докупить:\n",
    "закупочная цена продукта I равна 5.75 руб./т, закупочная цена продукта II - 4.00 руб./т.\n",
    "\n",
    "Но фильтр вышел из строя\n",
    "Более того, продукт I можно будет продавать только по цене 5 руб./т.\n",
    "\n",
    "Найти оптимальный план.\n",
    "\n",
    "\n",
    "Обозначим входные данные:\n",
    "\n",
    "$CostA$ - стоимость руды типа А за тонну\n",
    "\n",
    "$CostB$ - стоимость руды типа B за тоннy\n",
    "\n",
    "$A$ - максимально возможная масса закупленной руды типа А\n",
    "\n",
    "$B$ - максимально возможная масса закупленной руды типа B\n",
    "\n",
    "$L$ - максимально возможная масса руды, которая может поступить на основной процесс обработки\n",
    "\n",
    "$Cost$ - cтоимость основной обработки одной тонны руды\n",
    "\n",
    "$LConverter$ - максимально возможная суммарная масса продуктов, которая может пройти конвертацию\n",
    "\n",
    "$CostConverter$ - стоимость конвертации одной тонны продукта\n",
    "\n",
    "$LPackage$ - стоимость упаковки одной тонны продукта\n",
    "\n",
    "$PartAI$ - часть продукта I типа, получаемая из единицы руды А\n",
    "\n",
    "$PartAII$ - часть продукта II типа, получаемая из единицы руды А\n",
    "\n",
    "$PartBI$ - часть продукта I типа, получаемая из единицы руды B\n",
    "\n",
    "$PartBII$ - часть продукта II типа, получаемая из единицы руды B\n",
    "\n",
    "$PartConverterII$ - часть продукта типа II, получаемая после конвертации из единицы продукта\n",
    "\n",
    "$PartConverterII$ - часть продукта типа I, получаемая после конвертации из единицы продукта\n",
    "\n",
    "$SellII$ - стоимость продажи одной тонны продукта типа II\n",
    "\n",
    "$SellI$ - стоимость продажи одной тонны продукта типа I\n",
    "\n",
    "$ContraintI$ - ограничение на массу продукта, продаваемую по высшей цене\n",
    "\n",
    "$BuyII$ - стоимость покупки одной тонны продукта типа II\n",
    "\n",
    "$BuyI$ - стоимость покупки одной тонны продукта типа I\n",
    "\n",
    "$Contract$ - масса продукта I, необходимая для покупки по контракту\n",
    "\n",
    "$FourT$ - 4 тонны продукта I\n",
    "\n",
    "Построим математическую модель:\n",
    "\n",
    "$X$ - количество тонн руды А, которое поступило предприятию;\n",
    "\n",
    "$Y$ - количество тонн руды B, которое поступило предприятию;\n",
    "\n",
    "$Z$ - количество продукта типа II, направленное на конвертер;\n",
    "\n",
    "$D_I$ - количество продукта типа I, закупленное дополнительно;\n",
    "\n",
    "$D_{II}$ - количество продукта типа II, закупленное дополнительно;\n",
    "\n",
    "$P$ - количество продукта из $D_{II}$, ушедшее на конвертацию;\n",
    "\n",
    "Функция затрат:\n",
    "\n",
    "$$C = C_1 + C_2 + C_3 + C_4 +C_5$$, где\n",
    "\n",
    "$$C_1 = - (D_{II}*BuyII + D_{I}*BuyI)$$ - дополнительная закупка продукта;\n",
    "\n",
    "$$C_2 = -(X*CostA + Y*CostB)$$ - закупка руды;\n",
    "\n",
    "$$C_3 = - (X+Y)*Cost$$; - стоимость основного процесса переработки;\n",
    "\n",
    "$$C_4 = - (P + Z)*CostConverter$$ - стоимость процесса конвертации;\n",
    "\n",
    "$$C_5 = - ((P + Z)*PartConverterI + X*PartAI + Y*PartBI)*LPackage$$ - стоимость процесса упаковки;\n",
    "\n",
    "\n",
    "Определим, какое количество каждого продукта мы получим:\n",
    "\n",
    "$$PRODUCT_I = D_I + X*PartAI + Y*PartBI + (P + Z)*PartConverterI$$\n",
    "\n",
    "$$PRODUCT_{II} = D_{II} - P + (X*PartAII + Y*PartBII) - Z + (P+Z)*PartConverterII$$\n",
    "\n",
    "\n",
    "Функция продаж:\n",
    "\n",
    "$$SALE = PRODUCT_{II}*Sell{II} + temp*SellI + tempI * SailFour + tempII * sail$$\n",
    "\n",
    "Целевая функция:\n",
    "\n",
    "$$C + SALE \\to \\max$$\n",
    "\n",
    "Ограничения:\n",
    "\n",
    "$$X, Y, Z \\in \\mathbb R$$\n",
    "\n",
    "$$X \\leqslant A$$\n",
    "\n",
    "$$Y \\leqslant B$$\n",
    "\n",
    "$$P + Z \\leqslant LConverter$$\n",
    "\n",
    "$$X + Y\\leqslant L$$\n",
    "\n",
    "$$Z \\leqslant X*PartAII + Y*PartBII$$\n",
    "\n",
    "$$PRODUCT_{I} \\geqslant Contract$$\n",
    "\n",
    "$$temp \\leqslant ContraintI$$\n",
    "\n",
    "$$temp1 \\leqslant FourT$$\n",
    "\n",
    "$$P \\leqslant {DII}$$"
   ]
  },
  {
   "cell_type": "code",
   "execution_count": 3,
   "metadata": {},
   "outputs": [],
   "source": [
    "import gurobipy as gp\n",
    "from gurobipy import *\n",
    "import numpy as np"
   ]
  },
  {
   "cell_type": "code",
   "execution_count": 4,
   "metadata": {},
   "outputs": [],
   "source": [
    "#INPUT VALUES\n",
    "CostA = 3.25\n",
    "CostB = 3.4\n",
    "A = 100000\n",
    "B = 30000\n",
    "L = 100000\n",
    "Cost = 0.35\n",
    "LConverter = 50000\n",
    "CostConverter = 0.25\n",
    "LPackage = 0.15\n",
    "PartAI = 0.15\n",
    "PartAII = 0.85\n",
    "PartBI = 0.25\n",
    "PartBII = 0.75\n",
    "PartConverterI = 0.5\n",
    "PartConverterII = 0.5\n",
    "SellII = 3.8\n",
    "SellI = 5.0\n",
    "ContraintI = 45000\n",
    "BuyII = 4.0\n",
    "BuyI = 5.75\n",
    "Contract = 40000\n",
    "FourT = 4000"
   ]
  },
  {
   "cell_type": "code",
   "execution_count": 5,
   "metadata": {},
   "outputs": [
    {
     "name": "stdout",
     "output_type": "stream",
     "text": [
      "Using license file /Users/andrlluuk/Desktop/gurobi.lic\n",
      "Academic license - for non-commercial use only\n"
     ]
    }
   ],
   "source": [
    "m = gp.Model(\"Opt2\")"
   ]
  },
  {
   "cell_type": "code",
   "execution_count": 6,
   "metadata": {},
   "outputs": [],
   "source": [
    "def part_linear_function(x, Cost1, Cost2, Cost3):\n",
    "    if(x <= 45000):\n",
    "        return x*Cost1\n",
    "    elif(x > 45000) and (x <= 49000):\n",
    "        return 45000*Cost1 + (x-45000)*Cost2\n",
    "    else:\n",
    "        return 45000*Cost1 + 4000*Cost2 + (x-49000)*Cost3"
   ]
  },
  {
   "cell_type": "code",
   "execution_count": 7,
   "metadata": {},
   "outputs": [],
   "source": [
    "X = m.addVar(lb = 0, ub = A, vtype = GRB.SEMICONT, name = \"X\")\n",
    "Y = m.addVar(lb = 0, ub = B ,vtype = GRB.SEMICONT, name = \"Y\")\n",
    "Z = m.addVar(lb = 0, ub = LConverter, vtype = GRB.SEMICONT, name = \"Z\")\n",
    "DI = m.addVar(lb = 0,vtype = GRB.SEMICONT, name = \"DI\")\n",
    "DII = m.addVar(lb = 0,vtype = GRB.SEMICONT, name = \"DII\")\n",
    "P = m.addVar(lb = 0, ub = LConverter, vtype = GRB.SEMICONT, name = \"P\")"
   ]
  },
  {
   "cell_type": "code",
   "execution_count": 8,
   "metadata": {},
   "outputs": [],
   "source": [
    "C1 = DI*BuyI + DII*BuyII #закупка продукта дополнительно\n",
    "C2 = X*CostA + Y*CostB # закупка руды дополнительно\n",
    "C3 = (X+Y)*Cost #Стоимость основного процесса переработки\n",
    "C4 = (P + Z)*CostConverter #стоимость конвертации\n",
    "C5 = ((P + Z)*PartConverterI + X*PartAI + Y*PartBI)*LPackage #Стоимость упаковки\n",
    "C = C1 + C2 + C3 + C4 + C5\n",
    "PRODUCTI = DI + X*PartAI + Y*PartBI + (P + Z)*PartConverterI\n",
    "PRODUCTII = DII - P + (X*PartAII + Y*PartBII) - Z + (P + Z)*PartConverterII\n",
    "T = PRODUCTII*SellII + PRODUCTI*SellI"
   ]
  },
  {
   "cell_type": "code",
   "execution_count": 9,
   "metadata": {},
   "outputs": [],
   "source": [
    "m.setObjective(T - C, GRB.MAXIMIZE)"
   ]
  },
  {
   "cell_type": "code",
   "execution_count": 10,
   "metadata": {},
   "outputs": [
    {
     "data": {
      "text/plain": [
       "<gurobi.Constr *Awaiting Model Update*>"
      ]
     },
     "execution_count": 10,
     "metadata": {},
     "output_type": "execute_result"
    }
   ],
   "source": [
    "m.addConstr(X + Y <= L, \"c0\") #ограничение на основную переработку\n",
    "m.addConstr(Z <= X*PartAII + Y*PartBII, \"c1\") #ограничение на часть от основной переработки, поступающую в конвертер\n",
    "m.addConstr(PRODUCTI >= Contract, \"c2\") #ограничение на продукт типа I\n",
    "m.addConstr(PRODUCTII >= 0, \"c3\") #ограничение на продукт типа II\n",
    "m.addConstr(P <= DII, \"c6\")\n",
    "m.addConstr(P + Z <= LConverter, \"c7\") #условие на предел конвертации"
   ]
  },
  {
   "cell_type": "code",
   "execution_count": 11,
   "metadata": {},
   "outputs": [
    {
     "name": "stdout",
     "output_type": "stream",
     "text": [
      "Gurobi Optimizer version 9.0.3 build v9.0.3rc0 (mac64)\n",
      "Optimize a model with 6 rows, 6 columns and 19 nonzeros\n",
      "Model fingerprint: 0x87eabac7\n",
      "Variable types: 0 continuous, 0 integer (0 binary)\n",
      "Semi-Variable types: 6 continuous, 0 integer\n",
      "Coefficient statistics:\n",
      "  Matrix range     [1e-01, 1e+00]\n",
      "  Objective range  [2e-01, 8e-01]\n",
      "  Bounds range     [3e+04, 1e+05]\n",
      "  RHS range        [4e+04, 1e+05]\n",
      "Found heuristic solution: objective -30000.00000\n",
      "Presolve removed 6 rows and 6 columns\n",
      "Presolve time: 0.01s\n",
      "Presolve: All rows and columns removed\n",
      "\n",
      "Explored 0 nodes (0 simplex iterations) in 0.04 seconds\n",
      "Thread count was 1 (of 4 available processors)\n",
      "\n",
      "Solution count 2: 49500 \n",
      "\n",
      "Optimal solution found (tolerance 1.00e-04)\n",
      "Best objective 4.950000000000e+04, best bound 4.950000000000e+04, gap 0.0000%\n"
     ]
    }
   ],
   "source": [
    "m.optimize()"
   ]
  },
  {
   "cell_type": "code",
   "execution_count": 12,
   "metadata": {},
   "outputs": [
    {
     "name": "stdout",
     "output_type": "stream",
     "text": [
      "X 100000\n",
      "Y 0\n",
      "Z 50000\n",
      "DI 0\n",
      "DII 0\n",
      "P 0\n"
     ]
    }
   ],
   "source": [
    "for v in m.getVars():\n",
    "    print('%s %g' % (v.varName, v.x))"
   ]
  },
  {
   "cell_type": "code",
   "execution_count": 13,
   "metadata": {},
   "outputs": [
    {
     "name": "stdout",
     "output_type": "stream",
     "text": [
      "Obj: 49500\n"
     ]
    }
   ],
   "source": [
    "print('Obj: %g' % m.objVal)\n"
   ]
  },
  {
   "cell_type": "markdown",
   "metadata": {},
   "source": [
    "ANOTHER QUESTIONS:\n",
    "1. Теперь продукт II необходимо фильтровать. На него ставится фильтр с неограниченной мощностью и стоимость 0,125 руб/т Как изменится модель и оптимальный план?(на примере задачи 2.1)\n",
    "2. Теперь ограничения мощностей основной переработки и конвертера меняются с 100000 и 50000 на 1000000 и 500000 соответственно. Определите, какое количество продукта I теперь будет продаваться за 5 руб/т\n",
    "3. Другой завод, поставляющий на ваш завод дополнительно продукты I и II, закрылся. Теперь дополнительно их купить нельзя. Но можно купить руду типа С, которая при основном процессе обработки из тонны позволяет получить 0,2 тонны продукта I и 0,8 тонн продукта II. Найдите оптимальный план. \n",
    "4*. Конвертер старой советской закалки внезапно стал терять былую мощь. Теперь первые 10 тонн, которые пришли на него он конвертирует за стоимость 0.25 руб/т. Cледующие 20 тонн за 0.35 руб/т. Последние же 20 он конвертирует за 0.5 руб/т\n",
    "Найти оптимальный план."
   ]
  },
  {
   "cell_type": "code",
   "execution_count": null,
   "metadata": {},
   "outputs": [],
   "source": []
  }
 ],
 "metadata": {
  "kernelspec": {
   "display_name": "Python 3",
   "language": "python",
   "name": "python3"
  },
  "language_info": {
   "codemirror_mode": {
    "name": "ipython",
    "version": 3
   },
   "file_extension": ".py",
   "mimetype": "text/x-python",
   "name": "python",
   "nbconvert_exporter": "python",
   "pygments_lexer": "ipython3",
   "version": "3.7.6"
  }
 },
 "nbformat": 4,
 "nbformat_minor": 4
}
