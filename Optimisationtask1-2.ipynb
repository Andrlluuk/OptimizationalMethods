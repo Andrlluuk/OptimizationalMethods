{
 "cells": [
  {
   "cell_type": "markdown",
   "metadata": {},
   "source": [
    "Распределительная задача. \n",
    "\n",
    "Завод может производить $Y$ видов продукции; каждый продукт производится со скоростью $p_i$.\n",
    "Завод может производить за день только один тип продукции, он может сразу же перейти на производство другого типа продукции, заплатив при этом $R$.\n",
    "При этом, время всего производства - $S$ дней.\n",
    "\n",
    "Требуется найти оптимальное с точки зрения максимизации итоговой стоимости производства завода решение, какие продукции изготавливать.\n",
    "На продукцию есть покупатель, которому требуется определенное количество каждого вида, задаваемое массивом значений $M$.\n",
    "Для каждого вида продукции он либо покупает требуемое количество, либо не покупает совсем, если мы произвели недостаточно. При этом известна цена контракта на каждый вид продукции, задаваемая массивом $C$.\n",
    "\n",
    "Требуется найти оптимальное с точки зрения максимизации итоговой стоимости производства решение.\n",
    "\n",
    "Определить, какие типы продукции будут куплены, и какие нет.\n",
    "\n",
    "Запишем математическую модель.\n",
    "\n",
    "Введем переменные:\n",
    "\n",
    "$ x_{i} = \\left\\{\n",
    "\\begin{array}{ll}\n",
    "          1, & \\mbox { если покупатель заключает контракт на $i$ предмет,}\\\\\n",
    "          0, & \\mbox { в противном случае. } \\\\\n",
    "\\end{array} \\right. $\n",
    "\n",
    "Договоримся о входных данных:\n",
    "\n",
    "$Y$ - количество типов продукции;\n",
    "\n",
    "$R$ - стоимость перехода с производства одной продукции на производство другой.\n",
    "\n",
    "$S$ - время производства;\n",
    "\n",
    "$p_i$ - скорость производства $i$ продукции;\n",
    "\n",
    "$m_i$ - объем $i$ типа продукции, необходимый покупателю;\n",
    "\n",
    "$c_i$ - стоимость $i$ продукции.\n",
    "\n",
    "Математическая модель:\n",
    "\n",
    "Целевая функция:\n",
    "\n",
    "$$R + \\sum\\limits_{i = 0}^{Y - 1} x_i (c_i - R) \\to \\max_{x}$$\n",
    "\n",
    "Ограничения:\n",
    "\n",
    "$$x_i \\in \\mathbb B, \\forall i : 0 \\leqslant i \\leqslant Y - 1 $$\n",
    "\n",
    "$$\\sum\\limits_{i = 0}^{Y - 1} x_i \\frac{m_i}{p_i} \\leqslant S $$"
   ]
  },
  {
   "cell_type": "code",
   "execution_count": 1,
   "metadata": {},
   "outputs": [
    {
     "name": "stdout",
     "output_type": "stream",
     "text": [
      "Using license file /Users/andrlluuk/Desktop/gurobi.lic\n",
      "Academic license - for non-commercial use only\n",
      "No parameters matching '_test' found\n"
     ]
    }
   ],
   "source": [
    "import gurobipy as gp\n",
    "from gurobipy import GRB\n",
    "import numpy as np\n",
    "import time\n",
    "from random import randrange\n",
    "import pulp as plp\n",
    "from math import ceil"
   ]
  },
  {
   "cell_type": "code",
   "execution_count": 2,
   "metadata": {},
   "outputs": [],
   "source": [
    "Y = 12\n",
    "R = 52\n",
    "S = 20\n",
    "M = np.array([26, 46, 66, 47, 31, 47, 34, 31, 49, 37, 38, 63])\n",
    "P = np.array([26, 25, 20, 25, 20, 16, 22, 23, 20, 16, 29, 25])\n",
    "C = np.array([509, 512, 635, 433, 511, 678, 408, 665, 462, 620, 563, 659])\n"
   ]
  },
  {
   "cell_type": "code",
   "execution_count": 3,
   "metadata": {},
   "outputs": [
    {
     "name": "stdout",
     "output_type": "stream",
     "text": [
      "Distribution_problem:\n",
      "MAXIMIZE\n",
      "457*x0 + 460*x1 + 511*x10 + 607*x11 + 583*x2 + 381*x3 + 459*x4 + 626*x5 + 356*x6 + 613*x7 + 410*x8 + 568*x9 + 52\n",
      "SUBJECT TO\n",
      "constraint_{1}: x0 + 1.84 x1 + 1.31034482759 x10 + 2.52 x11 + 3.3 x2 + 1.88 x3\n",
      " + 1.55 x4 + 2.9375 x5 + 1.54545454545 x6 + 1.34782608696 x7 + 2.45 x8\n",
      " + 2.3125 x9 <= 20\n",
      "\n",
      "VARIABLES\n",
      "0 <= x0 <= 1 Integer\n",
      "0 <= x1 <= 1 Integer\n",
      "0 <= x10 <= 1 Integer\n",
      "0 <= x11 <= 1 Integer\n",
      "0 <= x2 <= 1 Integer\n",
      "0 <= x3 <= 1 Integer\n",
      "0 <= x4 <= 1 Integer\n",
      "0 <= x5 <= 1 Integer\n",
      "0 <= x6 <= 1 Integer\n",
      "0 <= x7 <= 1 Integer\n",
      "0 <= x8 <= 1 Integer\n",
      "0 <= x9 <= 1 Integer\n",
      "\n",
      "1.0\n",
      "1.84\n",
      "3.3\n",
      "1.88\n",
      "1.55\n",
      "2.9375\n",
      "1.5454545454545454\n",
      "1.3478260869565217\n",
      "2.45\n",
      "2.3125\n",
      "1.3103448275862069\n",
      "2.52\n"
     ]
    },
    {
     "name": "stderr",
     "output_type": "stream",
     "text": [
      "/Users/andrlluuk/opt/anaconda3/lib/python3.7/site-packages/pulp/pulp.py:1195: UserWarning: Spaces are not permitted in the name. Converted to '_'\n",
      "  warnings.warn(\"Spaces are not permitted in the name. Converted to '_'\")\n"
     ]
    }
   ],
   "source": [
    "problem = plp.LpProblem(name='Distribution problem', sense=plp.LpMaximize)\n",
    "x  = {i : plp.LpVariable(cat=plp.LpBinary, name=\"x\"+str(i)) for i in range(Y)}\n",
    "\n",
    "problem.addConstraint(plp.LpConstraint(\n",
    "                     e=plp.lpSum(M[i]/P[i] * x[i] for i in range(Y)),\n",
    "                     sense=plp.LpConstraintLE,\n",
    "                     rhs=S ,\n",
    "                     name=\"constraint_{1}\"))\n",
    "\n",
    "problem.setObjective(plp.lpSum((C[i] - R) * x[i] for i in range(Y)) + R)\n",
    "print(problem)\n",
    "for i in range(Y):\n",
    "    print(M[i]/P[i])"
   ]
  },
  {
   "cell_type": "code",
   "execution_count": 4,
   "metadata": {},
   "outputs": [
    {
     "name": "stdout",
     "output_type": "stream",
     "text": [
      "x0 = 1.0\n",
      "x1 = 1.0\n",
      "x10 = 1.0\n",
      "x11 = 1.0\n",
      "x2 = 1.0\n",
      "x3 = 1.0\n",
      "x4 = 1.0\n",
      "x5 = 1.0\n",
      "x6 = 0.0\n",
      "x7 = 1.0\n",
      "x8 = 0.0\n",
      "x9 = 1.0\n"
     ]
    }
   ],
   "source": [
    "problem.solve(plp.get_solver('PULP_CBC_CMD', msg=False))\n",
    "for v in problem.variables():\n",
    "            print(v.name, \"=\", v.varValue)"
   ]
  },
  {
   "cell_type": "code",
   "execution_count": 5,
   "metadata": {},
   "outputs": [
    {
     "name": "stdout",
     "output_type": "stream",
     "text": [
      "Gurobi solved 0.11761999130249023  answer : 5317.0\n",
      "CPLEX solved 0.12035703659057617  answer : 5317.0\n",
      "PULP solved 0.0686800479888916  answer : 5317.0\n"
     ]
    }
   ],
   "source": [
    "def experiment(name_of_solver, solver):\n",
    "    start = time.time()\n",
    "    problem.solve(solver)\n",
    "    answer = plp.value(problem.objective)\n",
    "    print(f\"{name_of_solver} solved {time.time() - start}  answer : {answer}\")\n",
    "    \n",
    "experiment('Gurobi', plp.get_solver('GUROBI', msg=False))\n",
    "experiment('CPLEX', plp.get_solver('CPLEX_PY', msg=False))\n",
    "experiment('PULP', plp.get_solver('PULP_CBC_CMD', msg=False))"
   ]
  },
  {
   "cell_type": "code",
   "execution_count": 6,
   "metadata": {},
   "outputs": [
    {
     "name": "stdout",
     "output_type": "stream",
     "text": [
      "Gurobi solved 57163 instances in 60 seconds answer : 5317.0\n",
      "CPLEX solved 6291 instances in 60 seconds answer : 5317.0\n",
      "PULP solved 2062 instances in 60 seconds answer : 5317.0\n"
     ]
    }
   ],
   "source": [
    "def experiment_per_minute(name_of_solver, solver, TimeLimit):\n",
    "    var = 0;\n",
    "    start = time.time()\n",
    "    currentTime = start\n",
    "    while(currentTime - start) <= TimeLimit:\n",
    "        problem.solve(solver)\n",
    "        var += 1\n",
    "        currentTime = time.time()\n",
    "    \n",
    "    answer = plp.value(problem.objective)\n",
    "    print(f\"{name_of_solver} solved {var} instances \"\n",
    "          f\"in {TimeLimit} seconds answer : {answer}\")\n",
    "    \n",
    "experiment_per_minute('Gurobi', plp.get_solver('GUROBI', msg=False),60)\n",
    "experiment_per_minute('CPLEX', plp.get_solver('CPLEX_PY', msg=False),60)\n",
    "experiment_per_minute('PULP', plp.get_solver('PULP_CBC_CMD', msg=False),60)"
   ]
  },
  {
   "cell_type": "markdown",
   "metadata": {},
   "source": [
    "QUESTIONS:\n",
    "1.Как изменится целевая функция, если добавить ограничение: изменить тип выпускаемой продукции в течение дня нельзя!\n",
    "2.Предположим, что теперь покупатель хочет некоторые типы продукции покупать, а некоторые нет. Как изменится при этом модель?\n",
    "3.Теперь у покупателя ограниченное количество денег = MONEY. Как изменится модель?\n",
    "4.Теперь завод может работать только 5 дней в неделю с понедельника по пятницу, два выходных - суббота, воскресенье, но заказ все же нужно сделать в срок S дней.\n",
    "Как изменится модель?(Начинать работу можно с любого дня недели)\n",
    "5.Заменим стоимость контракта к каждому типу продукции на стоимость продукции за единицу массы. Как изменится модель?\n"
   ]
  }
 ],
 "metadata": {
  "kernelspec": {
   "display_name": "Python 3",
   "language": "python",
   "name": "python3"
  },
  "language_info": {
   "codemirror_mode": {
    "name": "ipython",
    "version": 3
   },
   "file_extension": ".py",
   "mimetype": "text/x-python",
   "name": "python",
   "nbconvert_exporter": "python",
   "pygments_lexer": "ipython3",
   "version": "3.7.6"
  }
 },
 "nbformat": 4,
 "nbformat_minor": 4
}
